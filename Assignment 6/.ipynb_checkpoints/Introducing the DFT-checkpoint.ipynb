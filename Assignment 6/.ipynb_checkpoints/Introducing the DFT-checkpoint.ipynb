{
 "cells": [
  {
   "cell_type": "markdown",
   "metadata": {},
   "source": [
    "# Introducing the Discrete Fourier Transform (DFT)"
   ]
  },
  {
   "cell_type": "code",
   "execution_count": 1,
   "metadata": {},
   "outputs": [],
   "source": [
    "import numpy as np\n",
    "import matplotlib.pyplot as plt\n",
    "%matplotlib inline"
   ]
  },
  {
   "cell_type": "markdown",
   "metadata": {},
   "source": [
    "### The Collocation Problem with Trigonometric Basis Functions"
   ]
  },
  {
   "cell_type": "markdown",
   "metadata": {},
   "source": [
    "###### The form of the trigonometric polynomial that we will study in this course is defined\n",
    "$$\\sum_{k=\\frac{N_k}{2}+1}^{\\frac{N_k}2} a_k\\cos(kx) + b_k\\sin(kx) = f(x)$$\n",
    "\n",
    "$N_k$ is the number of frequencies and $j$ can range up to the number of grid-points for $x$."
   ]
  },
  {
   "cell_type": "markdown",
   "metadata": {},
   "source": [
    "###### We could determine the coefficients $a_k$ and $b_k$ by collocation (the direct method) and invert a matrix.\n",
    "\n",
    "$$\\sum_{k=\\frac{N_k}{2}+1}^{\\frac{N_k}2} a_k\\cos(kx_j) + b_k\\sin(kx_j) = f_j$$"
   ]
  },
  {
   "cell_type": "markdown",
   "metadata": {},
   "source": [
    "###### <font color=red>But we do not need to set up a system of equations. We can use orthogonality of $\\sin(kx)$ and $\\cos(kx)$ over $x\\in[-\\pi,\\pi]$ to compute the coefficients using quadrature. In fact, we will use the trapezoidal rule!"
   ]
  },
  {
   "cell_type": "markdown",
   "metadata": {},
   "source": [
    "###### You proved that\n",
    "\n",
    "$$\\frac1{L}\\int_{-L}^L\\cos\\left(\\frac{2\\pi}L mx\\right)\\cos\\left(\\frac{2\\pi}L nx\\right)\\,dx = \\delta_{mn}$$\n",
    "\n",
    "$$\\frac1{L}\\int_{-L}^L\\sin\\left(\\frac{2\\pi}L mx\\right)\\sin\\left(\\frac{2\\pi}L nx\\right)\\,dx = \\delta_{mn}$$\n",
    "\n",
    "$$\\frac1{L}\\int_{-L}^L\\cos\\left(\\frac{2\\pi}L mx\\right)\\sin\\left(\\frac{2\\pi}L nx\\right)\\,dx = 0$$"
   ]
  },
  {
   "cell_type": "markdown",
   "metadata": {},
   "source": [
    "###### So we can determine $a_n$ by using orthogonality as follows:\n",
    "\n",
    "$$\\sum_{k=\\frac{N_k}{2}+1}^{\\frac{N_k}2} a_k\\cos(kx) + b_k\\sin(kx) = f(x)$$\n",
    "\n",
    "$$\\sum_{k=\\frac{N_k}{2}+1}^{\\frac{N_k}2} a_k\\left(\\cos(kx),\\cos(nx)\\right) + b_k\\left(\\sin(kx),\\cos(nx)\\right) = \\left(f(x),\\cos(nx)\\right)$$\n",
    "\n",
    "$$\\sum_{k=\\frac{N_k}{2}+1}^{\\frac{N_k}2} a_k\\delta_{kn} + b_k0 = \\left(f(x),\\cos(nx)\\right)$$\n",
    "\n",
    "$$a_n = \\left(f(x),\\cos(nx)\\right)_{w=\\frac1{2\\pi}}$$"
   ]
  },
  {
   "cell_type": "markdown",
   "metadata": {},
   "source": [
    "###### We can determine $b_n$ by using orthogonality as follows:\n",
    "\n",
    "$$\\sum_{k=\\frac{N_k}{2}+1}^{\\frac{N_k}2} a_k\\cos(kx) + b_k\\sin(kx) = f(x)$$\n",
    "\n",
    "$$\\sum_{k=\\frac{N_k}{2}+1}^{\\frac{N_k}2} a_k\\left(\\cos(kx),\\sin(nx)\\right) + b_k\\left(\\sin(kx),\\sin(nx)\\right) = \\left(f(x),\\sin(nx)\\right)$$\n",
    "\n",
    "$$\\sum_{k=\\frac{N_k}{2}+1}^{\\frac{N_k}2} a_k0 + b_k\\delta{kn} = \\left(f(x),\\sin(nx)\\right)$$\n",
    "\n",
    "$$b_n = \\left(f(x),\\sin(nx)\\right)_{w=\\frac1{2\\pi}}$$"
   ]
  },
  {
   "cell_type": "markdown",
   "metadata": {},
   "source": [
    "### Fourier Coefficients and the Fourier Cosine Transform and Fourier Sine Transform"
   ]
  },
  {
   "cell_type": "markdown",
   "metadata": {},
   "source": [
    "###### The Fourier Cosine Coefficient is given by $$a_k = (f,\\cos(kx)) = \\frac1{2\\pi}\\int_{-\\pi}^\\pi f(x)\\cos(kx)\\,dx$$"
   ]
  },
  {
   "cell_type": "markdown",
   "metadata": {},
   "source": [
    "###### The Fourier Sine Coefficient is given by $$b_k = (f,\\sin(kx)) = \\frac1{2\\pi}\\int_{-\\pi}^\\pi f(x)\\sin(kx)\\,dx$$"
   ]
  },
  {
   "cell_type": "markdown",
   "metadata": {},
   "source": [
    "###### But our data will be discrete, so we need to approximate these coefficients using a quadrature rule. We will use the trapezoidal rule and this discretization results in the so-called Discrete Fourier Transform."
   ]
  },
  {
   "cell_type": "markdown",
   "metadata": {},
   "source": [
    "### Discrete Fourier Transform (DFT)"
   ]
  },
  {
   "cell_type": "markdown",
   "metadata": {},
   "source": [
    "###### In order to compute the DFT over a frequency grid you will need to write an algorithm that\n",
    "* executes the trapezoidal rule\n",
    "* over a grid for $x$\n",
    "* at each frequency $k$\n",
    "\n",
    "<font color=red>That means that you will implement the trapezoidal rule using a matrix (vectorization)."
   ]
  },
  {
   "cell_type": "markdown",
   "metadata": {},
   "source": [
    "###### To get a feel for this kind of computation, we can compute the following integrals using the trapezoidal rule with $n = 8$ grid points."
   ]
  },
  {
   "cell_type": "markdown",
   "metadata": {},
   "source": [
    "###### $f(x)=1x$ $$a_0 = \\int_0^1\\,1\\,x\\,dx \\approx \\sum_{j=0}^71\\,x_j\\,\\,w_j$$"
   ]
  },
  {
   "cell_type": "markdown",
   "metadata": {
    "collapsed": true
   },
   "source": [
    "###### $$\\begin{pmatrix}\n",
    "1x_0 & 1x_1 & 1x_2 & \\ldots & 1x_7\n",
    "\\end{pmatrix}\\begin{pmatrix}\n",
    "w_0 \\\\\n",
    "w_1 \\\\\n",
    "w_2 \\\\\n",
    "\\vdots \\\\\n",
    "w_7 \\\\\n",
    "\\end{pmatrix}\n",
    "=\n",
    "a_0$$\n",
    "where $w_0 = \\frac12h$, $w_1 = 1h$, $w_2 = 1h$,$\\ldots$, $w_7=\\frac12h$ where $h=\\frac17$ and the computed coefficient is $a_0 = \\frac12$"
   ]
  },
  {
   "cell_type": "code",
   "execution_count": null,
   "metadata": {},
   "outputs": [],
   "source": []
  },
  {
   "cell_type": "markdown",
   "metadata": {},
   "source": [
    "###### $f(x)=2x$ $$a_1=\\int_0^1\\,2\\,x\\,dx \\approx \\sum_{j=0}^72\\,x_j\\,w_j$$"
   ]
  },
  {
   "cell_type": "markdown",
   "metadata": {
    "collapsed": true
   },
   "source": [
    "###### $$\\begin{pmatrix}\n",
    "2x_0 & 2x_1 & 2x_2 & \\ldots & 2x_7\n",
    "\\end{pmatrix}\\begin{pmatrix}\n",
    "w_0 \\\\\n",
    "w_1 \\\\\n",
    "w_2 \\\\\n",
    "\\vdots \\\\\n",
    "w_7 \\\\\n",
    "\\end{pmatrix}\n",
    "=\n",
    "a_1$$\n",
    "where $w_0 = \\frac12h$, $w_1 = 1h$, $w_2 = 1h$,$\\ldots$, $w_7=\\frac12h$ where $h=\\frac17$ and the computed coefficient is $a_1 = 1$"
   ]
  },
  {
   "cell_type": "code",
   "execution_count": null,
   "metadata": {},
   "outputs": [],
   "source": []
  },
  {
   "cell_type": "markdown",
   "metadata": {},
   "source": [
    "###### $f(x)=3x$ $$a_2=\\int_0^1\\,3\\,x\\,dx \\approx \\sum_{j=0}^73\\,x_j\\,w_j$$"
   ]
  },
  {
   "cell_type": "markdown",
   "metadata": {
    "collapsed": true
   },
   "source": [
    "###### $$\\begin{pmatrix}\n",
    "3x_0 & 3x_1 & 3x_2 & \\ldots & 3x_7\n",
    "\\end{pmatrix}\\begin{pmatrix}\n",
    "w_0 \\\\\n",
    "w_1 \\\\\n",
    "w_2 \\\\\n",
    "\\vdots \\\\\n",
    "w_7 \\\\\n",
    "\\end{pmatrix}\n",
    "=\n",
    "a_2$$\n",
    "where $w_0 = \\frac12h$, $w_1 = 1h$, $w_2 = 1h$,$\\ldots$, $w_7=\\frac12h$ where $h=\\frac17$ and the computed coefficient is $a_2 = \\frac32$"
   ]
  },
  {
   "cell_type": "code",
   "execution_count": null,
   "metadata": {},
   "outputs": [],
   "source": []
  },
  {
   "cell_type": "markdown",
   "metadata": {},
   "source": [
    "###### Now combine these three separate computations into one matrix-vector multiply."
   ]
  },
  {
   "cell_type": "markdown",
   "metadata": {},
   "source": [
    "###### $$\\begin{pmatrix}\n",
    "1x_0 & 1x_1 & 1x_2 & \\ldots & 1x_7\\\\\n",
    "2x_0 & 2x_1 & 2x_2 & \\ldots & 2x_7\\\\\n",
    "3x_0 & 3x_1 & 3x_2 & \\ldots & 3x_7\n",
    "\\end{pmatrix}\\begin{pmatrix}\n",
    "w_0 \\\\ w_1 \\\\ w_2 \\\\ \\ldots \\\\ w_7\n",
    "\\end{pmatrix}\n",
    "=\n",
    "\\begin{pmatrix}\n",
    "a_0 \\\\ a_1 \\\\ a_2\n",
    "\\end{pmatrix}$$\n",
    "where $w_0 = \\frac12h$, $w_1 = 1h$, $w_2 = 1h$,$\\ldots$, $w_7=\\frac12h$ where $h=\\frac17$ and the computed coefficients are $a_0 = \\frac12$, $a_1 = 1$, $a_2 = \\frac32$."
   ]
  },
  {
   "cell_type": "code",
   "execution_count": null,
   "metadata": {},
   "outputs": [],
   "source": []
  },
  {
   "cell_type": "markdown",
   "metadata": {},
   "source": [
    "### Discrete Cosine Transform (DCT)"
   ]
  },
  {
   "cell_type": "markdown",
   "metadata": {},
   "source": [
    "###### What is the algorithm for the Fourier cosine coefficient $\\displaystyle a_k = \\frac1{\\pi}\\int_{-\\pi}^\\pi f(x)\\cos(kx)\\,dx$?"
   ]
  },
  {
   "cell_type": "markdown",
   "metadata": {},
   "source": [
    "###### Let $N_k = 8$ (frequency grid) and $npts = 16$ (x grid) to start. Notice that\n",
    "* $h = \\frac{2\\pi}{npts-1}$ so multiplying by $\\frac{1}{2\\pi}$ yields a factor of $\\frac{1}{npts-1}$ in front of the trapezoidal rule\n",
    "* The integrand is assumed to be $2\\pi$ periodic so we can discard one of the endpoints and we will choose the left endpoint\n",
    "* The weights for the trapezoidal rule are $\\vec{w} = [\\frac12, 1, 1, \\ldots, 1, \\frac12]$ but the assumption of periodicity means that we assume that the first and final endpoints yield the same result, so we are adding them together in the sum yielding $\\vec{w} = [1, 1, 1, \\ldots, 1]$\n",
    "* Computationally we can ignore the weight vector and simply compute the dot product of $f(x)$ and the cosine kernel."
   ]
  },
  {
   "cell_type": "code",
   "execution_count": null,
   "metadata": {},
   "outputs": [],
   "source": []
  },
  {
   "cell_type": "markdown",
   "metadata": {},
   "source": [
    "###### Collocate the function $f(x) = \\frac1{\\cosh(x)}$"
   ]
  },
  {
   "cell_type": "markdown",
   "metadata": {},
   "source": [
    "######  $b_k=0~\\forall k$ so the trigonometric interpolant (Fourier series) is (Cosine series) $$\\sum_{k=\\frac{N_k}{2}+1}^{\\frac{N_k}2} a_k\\cos(kx_j) = f_j$$"
   ]
  },
  {
   "cell_type": "code",
   "execution_count": null,
   "metadata": {},
   "outputs": [],
   "source": [
    "plt.plot(x,f,'b',x,a.dot(C),'r.')\n",
    "plt.legend(['$f(x)$','DCT Fit']);"
   ]
  },
  {
   "cell_type": "markdown",
   "metadata": {},
   "source": [
    "### Discrete Sine Transform (DST)"
   ]
  },
  {
   "cell_type": "markdown",
   "metadata": {},
   "source": [
    "###### What is the algorithm for the Fourier sine coefficient $\\displaystyle b_k = \\frac1{\\pi}\\int_{-\\frac\\pi2}^{\\frac\\pi2} f(x)\\sin(kx)\\,dx$?"
   ]
  },
  {
   "cell_type": "code",
   "execution_count": null,
   "metadata": {},
   "outputs": [],
   "source": []
  },
  {
   "cell_type": "markdown",
   "metadata": {},
   "source": [
    "###### Collocate the function $f(x) = \\tanh(2x)$"
   ]
  },
  {
   "cell_type": "markdown",
   "metadata": {},
   "source": [
    "######  $a_k=0~\\forall k$ so the trigonometric interpolant (Fourier series) is (Sine series) $$\\sum_{k=\\frac{N_k}{2}+1}^{\\frac{N_k}2} b_k\\sin(kx_j) = f_j$$"
   ]
  },
  {
   "cell_type": "code",
   "execution_count": null,
   "metadata": {},
   "outputs": [],
   "source": [
    "plt.plot(x,f,'b',x,b.dot(S),'r.-')\n",
    "plt.legend(['$f(x)$','DST']);"
   ]
  },
  {
   "cell_type": "markdown",
   "metadata": {},
   "source": [
    "###### What happened at the left endpoint? How can we fix it?"
   ]
  },
  {
   "cell_type": "code",
   "execution_count": null,
   "metadata": {},
   "outputs": [],
   "source": []
  },
  {
   "cell_type": "code",
   "execution_count": null,
   "metadata": {},
   "outputs": [],
   "source": [
    "plt.plot(x,f,'b',x,b.dot(S),'r.-')\n",
    "plt.legend(['$f(x)$','DST']);"
   ]
  },
  {
   "cell_type": "code",
   "execution_count": null,
   "metadata": {
    "collapsed": true
   },
   "outputs": [],
   "source": []
  }
 ],
 "metadata": {
  "kernelspec": {
   "display_name": "Python 3",
   "language": "python",
   "name": "python3"
  },
  "language_info": {
   "codemirror_mode": {
    "name": "ipython",
    "version": 3
   },
   "file_extension": ".py",
   "mimetype": "text/x-python",
   "name": "python",
   "nbconvert_exporter": "python",
   "pygments_lexer": "ipython3",
   "version": "3.7.0"
  }
 },
 "nbformat": 4,
 "nbformat_minor": 1
}
