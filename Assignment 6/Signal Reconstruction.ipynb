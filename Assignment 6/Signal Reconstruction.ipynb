{
 "cells": [
  {
   "cell_type": "markdown",
   "metadata": {},
   "source": [
    "# Signal Reconstruction"
   ]
  },
  {
   "cell_type": "code",
   "execution_count": 1,
   "metadata": {},
   "outputs": [],
   "source": [
    "import numpy as np\n",
    "import matplotlib.pyplot as plt\n",
    "%matplotlib inline"
   ]
  },
  {
   "cell_type": "markdown",
   "metadata": {},
   "source": [
    "### Fourier Coefficients and the Fourier Cosine Transform and Fourier Sine Transform"
   ]
  },
  {
   "cell_type": "markdown",
   "metadata": {},
   "source": [
    "###### The Fourier Cosine Coefficient is given by $$a_k = (f,\\cos(kx)) = \\frac1{2\\pi}\\int_{-\\pi}^\\pi f(x)\\cos(kx)\\,dx$$"
   ]
  },
  {
   "cell_type": "markdown",
   "metadata": {},
   "source": [
    "###### The Fourier Sine Coefficient is given by $$b_k = (f,\\sin(kx)) = \\frac1{2\\pi}\\int_{-\\pi}^\\pi f(x)\\sin(kx)\\,dx$$"
   ]
  },
  {
   "cell_type": "markdown",
   "metadata": {},
   "source": [
    "###### But our data will be discrete, so we need to approximate these coefficients using a quadrature rule. We will use the trapezoidal rule and this discretization results in the so-called Discrete Fourier Transform."
   ]
  },
  {
   "cell_type": "markdown",
   "metadata": {},
   "source": [
    "### Discrete Cosine Transform (DCT)"
   ]
  },
  {
   "cell_type": "markdown",
   "metadata": {},
   "source": [
    "###### What is the algorithm for the Fourier cosine coefficient $\\displaystyle a_k = \\frac1{2\\pi}\\int_{-\\pi}^\\pi f(x)\\cos(kx)\\,dx$?"
   ]
  },
  {
   "cell_type": "markdown",
   "metadata": {},
   "source": [
    "###### Let $N_k = 8$ (frequency grid) and $npts = 16$ (x grid) to start. Notice that\n",
    "* $h = \\frac{2\\pi}{npts-1}$ so multiplying by $\\frac{1}{2\\pi}$ yields a factor of $\\frac{1}{npts-1}$ in front of the trapezoidal rule\n",
    "* The integrand is assumed to be $2\\pi$ periodic so we can discard one of the endpoints and we will choose the left endpoint\n",
    "* The weights for the trapezoidal rule are $\\vec{w} = [\\frac12, 1, 1, \\ldots, 1, \\frac12]$ but the assumption of periodicity means that we assume that the first and final endpoints yield the same result, so we are adding them together in the sum yielding $\\vec{w} = [1, 1, 1, \\ldots, 1]$\n",
    "* Computationally we can ignore the weight vector and simply compute the dot product of $f(x)$ and the cosine kernel."
   ]
  },
  {
   "cell_type": "code",
   "execution_count": 5,
   "metadata": {},
   "outputs": [
    {
     "name": "stdout",
     "output_type": "stream",
     "text": [
      "[ 6.61119128e-04 -7.53689803e-04  1.53401670e-03  1.64696646e-04\n",
      "  1.18144809e-02  3.75545234e-02  2.13096438e-01  4.72418433e-01\n",
      "  2.13096438e-01  3.75545234e-02  1.18144809e-02  1.64696646e-04\n",
      "  1.53401670e-03 -7.53689803e-04  6.61119128e-04 -5.17453498e-04]\n"
     ]
    }
   ],
   "source": [
    "Nk = 16\n",
    "npts = 33\n",
    "x = np.linspace(-np.pi,np.pi,npts)\n",
    "x = x[:-1] # Cosine is 2pi periodic so discard the right endpoint\n",
    "k = np.arange(-Nk/2+1,Nk/2+1)\n",
    "k = np.c_[k]\n",
    "f = 1/np.cosh(x)\n",
    "C = np.cos(k*x)\n",
    "a = C.dot(f)/(npts-1)\n",
    "print(a)"
   ]
  },
  {
   "cell_type": "markdown",
   "metadata": {},
   "source": [
    "###### Collocate the function $f(x) = \\frac1{\\cosh(x)}$"
   ]
  },
  {
   "cell_type": "markdown",
   "metadata": {},
   "source": [
    "######  $b_k=0~\\forall k$ so the trigonometric interpolant (Fourier series) is (Cosine series) $$\\sum_{k=\\frac{N_k}{2}+1}^{\\frac{N_k}2} a_k\\cos(kx_j) = f_j$$"
   ]
  },
  {
   "cell_type": "code",
   "execution_count": 6,
   "metadata": {},
   "outputs": [
    {
     "data": {
      "image/png": "[encoded data removed]",
      "text/plain": [
       "<Figure size 432x288 with 1 Axes>"
      ]
     },
     "metadata": {
      "needs_background": "light"
     },
     "output_type": "display_data"
    }
   ],
   "source": [
    "plt.plot(x,f,'b',x,a.dot(C),'r.')\n",
    "plt.legend(['$f(x)$','DCT Fit']);"
   ]
  },
  {
   "cell_type": "code",
   "execution_count": 7,
   "metadata": {},
   "outputs": [
    {
     "name": "stdout",
     "output_type": "stream",
     "text": [
      "bk = [-4.07660017e-17 -1.56125113e-17  7.41594286e-17  1.99493200e-17\n",
      " -4.48859699e-17 -1.90819582e-17  1.06251813e-17  0.00000000e+00\n",
      " -1.06251813e-17  1.90819582e-17  4.48859699e-17 -1.99493200e-17\n",
      " -7.41594286e-17  1.56125113e-17  4.07660017e-17  4.38017678e-17]\n"
     ]
    }
   ],
   "source": [
    "S = np.sin(k*x)\n",
    "print('bk = {}'.format(S.dot(f)/(npts-1)))"
   ]
  },
  {
   "cell_type": "code",
   "execution_count": 8,
   "metadata": {},
   "outputs": [
    {
     "data": {
      "image/png": "[encoded data removed]",
      "text/plain": [
       "<Figure size 432x288 with 1 Axes>"
      ]
     },
     "metadata": {
      "needs_background": "light"
     },
     "output_type": "display_data"
    }
   ],
   "source": [
    "pwr_spectrum = np.fabs(a)\n",
    "pwr_spectrum = pwr_spectrum/pwr_spectrum.max()\n",
    "plt.plot(k,pwr_spectrum,'ro')\n",
    "plt.xlabel('k')\n",
    "plt.ylabel('Power Spectrum');"
   ]
  },
  {
   "cell_type": "code",
   "execution_count": 13,
   "metadata": {},
   "outputs": [
    {
     "data": {
      "text/plain": [
       "array([[-1.],\n",
       "       [ 0.],\n",
       "       [ 1.]])"
      ]
     },
     "execution_count": 13,
     "metadata": {},
     "output_type": "execute_result"
    }
   ],
   "source": [
    "k[pwr_spectrum>0.4]"
   ]
  },
  {
   "cell_type": "code",
   "execution_count": 15,
   "metadata": {},
   "outputs": [
    {
     "data": {
      "image/png": "[encoded data removed]",
      "text/plain": [
       "<matplotlib.figure.Figure at 0x8c3426d6a0>"
      ]
     },
     "metadata": {},
     "output_type": "display_data"
    }
   ],
   "source": [
    "kr = np.c_[k[pwr_spectrum>0.4]]\n",
    "ar = a[pwr_spectrum>0.4]\n",
    "plt.plot(k,pwr_spectrum,'ro',kr,pwr_spectrum[pwr_spectrum>0.4],'k.')\n",
    "plt.xlabel('k')\n",
    "plt.ylabel('Power Spectrum');"
   ]
  },
  {
   "cell_type": "code",
   "execution_count": 16,
   "metadata": {},
   "outputs": [
    {
     "data": {
      "image/png": "[encoded data removed]",
      "text/plain": [
       "<matplotlib.figure.Figure at 0x8c34315d30>"
      ]
     },
     "metadata": {},
     "output_type": "display_data"
    }
   ],
   "source": [
    "Cr = np.cos(kr*x)\n",
    "plt.plot(x,f,'b.',x,ar.dot(Cr),'r.-')\n",
    "plt.legend(['$f(x)$','DCT Reconstruction']);"
   ]
  },
  {
   "cell_type": "code",
   "execution_count": null,
   "metadata": {
    "collapsed": true
   },
   "outputs": [],
   "source": []
  }
 ],
 "metadata": {
  "kernelspec": {
   "display_name": "Python 3",
   "language": "python",
   "name": "python3"
  },
  "language_info": {
   "codemirror_mode": {
    "name": "ipython",
    "version": 3
   },
   "file_extension": ".py",
   "mimetype": "text/x-python",
   "name": "python",
   "nbconvert_exporter": "python",
   "pygments_lexer": "ipython3",
   "version": "3.7.0"
  }
 },
 "nbformat": 4,
 "nbformat_minor": 1
}
