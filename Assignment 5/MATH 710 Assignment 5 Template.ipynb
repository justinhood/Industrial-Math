{
 "cells": [
  {
   "cell_type": "markdown",
   "metadata": {},
   "source": [
    "# MATH 710 Assignment 5 Template"
   ]
  },
  {
   "cell_type": "code",
   "execution_count": 1,
   "metadata": {
    "collapsed": true
   },
   "outputs": [],
   "source": [
    "import numpy as np\n",
    "import matplotlib.pyplot as plt\n",
    "%matplotlib inline"
   ]
  },
  {
   "cell_type": "markdown",
   "metadata": {},
   "source": [
    "### Problem 5 Data"
   ]
  },
  {
   "cell_type": "markdown",
   "metadata": {},
   "source": [
    "###### Below is a set of nodes, $x$, and the values of two unknown functions, $f$ and $g$, at these corresponding grid points. Find an estimate for the point of intersection of the graphs of these two functions. Note that you need to the find BOTH the $x$ and $y$ values for the point!"
   ]
  },
  {
   "cell_type": "code",
   "execution_count": null,
   "metadata": {
    "collapsed": true
   },
   "outputs": [],
   "source": [
    "x = np.array([0.15839511,0.2247862,0.57336078,0.90902066,1.60394509,1.80681731,2.06397836,2.43692578])\n",
    "f = np.array([0.9752231,0.95072651,0.71982829,0.43765753,0.07633377,0.03821265,0.01412221,0.0026357 ])\n",
    "g = np.array([1.08193102,1.06379173,0.8770369,0.59224085,-0.01563539,-0.13283609,-0.21963379,-0.22527554])"
   ]
  },
  {
   "cell_type": "markdown",
   "metadata": {},
   "source": [
    "### Problem 7 Data"
   ]
  },
  {
   "cell_type": "code",
   "execution_count": 2,
   "metadata": {},
   "outputs": [
    {
     "ename": "SyntaxError",
     "evalue": "invalid syntax (<ipython-input-2-6ab354a569fb>, line 2)",
     "output_type": "error",
     "traceback": [
      "\u001b[1;36m  File \u001b[1;32m\"<ipython-input-2-6ab354a569fb>\"\u001b[1;36m, line \u001b[1;32m2\u001b[0m\n\u001b[1;33m    0.20823561 -0.23438388  0.79077177  0.93558934  0.0937698  -0.45035286\u001b[0m\n\u001b[1;37m             ^\u001b[0m\n\u001b[1;31mSyntaxError\u001b[0m\u001b[1;31m:\u001b[0m invalid syntax\n"
     ]
    }
   ],
   "source": [
    "x = np.array([-0.09635663, -0.85826044, -0.41441194, -0.69529059, -0.16502725, -0.73742134,\n",
    "  0.20823561, -0.23438388,  0.79077177,  0.93558934,  0.0937698,  -0.45035286,\n",
    "  0.18446084,  0.79352232, -0.18653331,  0.10415655, -0.45669446, -0.0891117,\n",
    " -0.19657293, -0.50317307,  0.01173277, -0.37923835, -0.25393027,  0.04994088,\n",
    "  0.50119005, -0.33298507,  0.84831753,  0.72463709, -0.90261941, -0.49271495,\n",
    " -0.10772897, -0.79074422, -0.30304802,  0.48019505,  0.36102896,  0.24476886,\n",
    "  0.42105681, -0.59015263, -0.31660377,  0.35248496,  0.75846953,  0.08735611,\n",
    " -0.4346007,  -0.93952948,  0.42067366, -0.98423179, -0.25464186,  0.06107443,\n",
    "  0.84422292, -0.82101091])\n",
    "\n",
    "y = np.array([-3.57532577, -5.50855819, -3.67978748 -5.789096   -4.03701914 -5.4862335\n",
    " -2.47844626, -4.2624628,  -0.45792228,  0.00814666 -2.3143405  -3.52657643\n",
    " -2.40097367, -0.93870653, -3.62731602 -2.17633992 -3.83322247 -3.69769059\n",
    " -3.74059169, -4.95862857, -2.14437582 -4.07316611 -3.90475032 -3.11539648\n",
    " -0.89796797, -4.68785965, -0.70071312 -0.73247551 -5.59118345 -3.93664429\n",
    " -3.39494122, -4.88801714, -3.70581013 -1.8999294  -2.58070619 -2.72389502\n",
    " -2.06555159, -4.25208157, -4.36148577 -1.21442169 -0.96966307 -3.14168158\n",
    " -4.20363284, -5.49267736, -1.84825373 -5.47142953 -4.7866996  -2.83455298\n",
    " -1.99057678, -5.64906875])"
   ]
  },
  {
   "cell_type": "code",
   "execution_count": 3,
   "metadata": {
    "collapsed": true
   },
   "outputs": [],
   "source": [
    "x = np.array([-0.09635663, -0.85826044, -0.41441194, -0.69529059, -0.16502725, -0.73742134,\n",
    "  0.20823561, -0.23438388,  0.79077177,  0.93558934,  0.0937698,  -0.45035286,\n",
    "  0.18446084,  0.79352232, -0.18653331,  0.10415655, -0.45669446, -0.0891117,\n",
    " -0.19657293, -0.50317307,  0.01173277, -0.37923835, -0.25393027,  0.04994088,\n",
    "  0.50119005, -0.33298507,  0.84831753,  0.72463709, -0.90261941, -0.49271495,\n",
    " -0.10772897, -0.79074422, -0.30304802,  0.48019505,  0.36102896,  0.24476886,\n",
    "  0.42105681, -0.59015263, -0.31660377,  0.35248496,  0.75846953,  0.08735611,\n",
    " -0.4346007,  -0.93952948,  0.42067366, -0.98423179, -0.25464186,  0.06107443,\n",
    "  0.84422292, -0.82101091])"
   ]
  },
  {
   "cell_type": "code",
   "execution_count": null,
   "metadata": {
    "collapsed": true
   },
   "outputs": [],
   "source": []
  }
 ],
 "metadata": {
  "kernelspec": {
   "display_name": "Python 3",
   "language": "python",
   "name": "python3"
  },
  "language_info": {
   "codemirror_mode": {
    "name": "ipython",
    "version": 3
   },
   "file_extension": ".py",
   "mimetype": "text/x-python",
   "name": "python",
   "nbconvert_exporter": "python",
   "pygments_lexer": "ipython3",
   "version": "3.6.1"
  }
 },
 "nbformat": 4,
 "nbformat_minor": 2
}
