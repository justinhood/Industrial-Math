{
 "cells": [
  {
   "cell_type": "markdown",
   "metadata": {},
   "source": [
    "# Collocation and Interpolation"
   ]
  },
  {
   "cell_type": "code",
   "execution_count": null,
   "metadata": {
    "collapsed": true
   },
   "outputs": [],
   "source": [
    "import numpy as np\n",
    "import matplotlib.pyplot as plt\n",
    "%matplotlib inline"
   ]
  },
  {
   "cell_type": "markdown",
   "metadata": {},
   "source": [
    "### The Collocation Problem:\n",
    "* Determine $c_k$ such that $$\\sum_{k=0}^n c_k\\varphi_k(x) = f(x)$$\n",
    "* The independent variable will get discretized into a grid, $\\{x_j\\}_{j=0}^n$, which converts the problem to a discrete form $$\\sum_{k=0}^n c_k\\varphi_k(x_j) = f(x_j)$$ for each $j = 0,1,\\ldots,n$\n",
    "* Which we will typically write as $$\\sum_{k=0}^n c_k\\varphi_{jk} = f_j$$"
   ]
  },
  {
   "cell_type": "markdown",
   "metadata": {},
   "source": [
    "### Vectorization for Solving the Collocation Problem"
   ]
  },
  {
   "cell_type": "markdown",
   "metadata": {},
   "source": [
    "###### The sum $$\\sum_{k=0}^n c_k\\varphi_{jk} = f_j$$ can be written in terms of vector-matrix multiplication:\n",
    "\n",
    "$$\\begin{pmatrix}\n",
    "\\varphi_0(x_0) & \\varphi_1(x_0) &\\ldots & \\varphi_n(x_0)\\\\\n",
    "\\varphi_0(x_1) & \\varphi_1(x_1) &\\ldots & \\varphi_n(x_1)\\\\\n",
    "\\varphi_0(x_2) & \\varphi_1(x_2) &\\ldots & \\varphi_n(x_2)\\\\\n",
    "\\vdots & \\vdots & \\ddots & \\vdots \\\\\n",
    "\\varphi_0(x_n) & \\varphi_1(x_n) &\\ldots & \\varphi_n(x_n)\\\\\n",
    "\\end{pmatrix}\n",
    "\\begin{pmatrix}\n",
    "c_0\\\\\n",
    "c_1\\\\\n",
    "c_2\\\\\n",
    "\\vdots\\\\\n",
    "c_n\n",
    "\\end{pmatrix}\n",
    "=\n",
    "\\begin{pmatrix}\n",
    "f_0\\\\\n",
    "f_1\\\\\n",
    "f_2\\\\\n",
    "\\vdots\\\\\n",
    "f_n\n",
    "\\end{pmatrix}$$"
   ]
  },
  {
   "cell_type": "markdown",
   "metadata": {},
   "source": [
    "###### A short interlude on the outer product and broadcasting"
   ]
  },
  {
   "cell_type": "code",
   "execution_count": null,
   "metadata": {},
   "outputs": [],
   "source": []
  },
  {
   "cell_type": "markdown",
   "metadata": {},
   "source": [
    "### Polynomial Interpolation: $\\varphi_k(x) = x^k$ on $[-2,2]$"
   ]
  },
  {
   "cell_type": "markdown",
   "metadata": {},
   "source": [
    "###### The sum $$\\sum_{k=0}^n c_k\\varphi_{jk} = f_j\\implies \\sum_{k=0}^n c_kx_j^k = f_j$$ can be written in terms of vector-matrix multiplication:\n",
    "\n",
    "$$\\begin{pmatrix}\n",
    "1 & x_0 & x_0^2 & \\ldots & x_0^n\\\\\n",
    "1 & x_1 & x_1^2 & \\ldots & x_1^n\\\\\n",
    "1 & x_2 & x_2^2 & \\ldots & x_2^n\\\\\n",
    "\\vdots & \\vdots & \\vdots & \\ddots & \\vdots \\\\\n",
    "1 & x_n & x_n^2 & \\ldots & x_n^n\\\\\n",
    "\\end{pmatrix}\n",
    "\\begin{pmatrix}\n",
    "c_0\\\\\n",
    "c_1\\\\\n",
    "c_2\\\\\n",
    "\\vdots\\\\\n",
    "c_n\n",
    "\\end{pmatrix}\n",
    "=\n",
    "\\begin{pmatrix}\n",
    "f_0\\\\\n",
    "f_1\\\\\n",
    "f_2\\\\\n",
    "\\vdots\\\\\n",
    "f_n\n",
    "\\end{pmatrix}$$"
   ]
  },
  {
   "cell_type": "code",
   "execution_count": null,
   "metadata": {},
   "outputs": [],
   "source": [
    "# Set up the spatial grid, frequency grid, grid-matrix, and frequency-matrix\n",
    "x = np.linspace(-2,2,15) #<-- Play with the number of nodes, start with 3, 5, ...\n",
    "\n",
    "plt.plot(x,np.dot(phi,c),'ro',x,f,'b.')\n",
    "plt.xlabel('x')\n",
    "plt.ylabel('y')\n",
    "plt.title('Collocation');"
   ]
  },
  {
   "cell_type": "markdown",
   "metadata": {},
   "source": [
    "### Interpolation"
   ]
  },
  {
   "cell_type": "code",
   "execution_count": null,
   "metadata": {},
   "outputs": [],
   "source": [
    "# Construct interpolation grid\n",
    "xi = np.linspace(-1.9,1.9,9)\n",
    "\n",
    "print('The shape of phi is {}'.format(phi.shape))\n",
    "yi = np.dot(phi,c) #<-- Notice recycled coefficients c_k's\n",
    "plt.plot(x,f,'bo',xi,yi,'r.')\n",
    "plt.xlabel('x')\n",
    "plt.ylabel('y')\n",
    "plt.title('Interpolation');"
   ]
  },
  {
   "cell_type": "code",
   "execution_count": null,
   "metadata": {},
   "outputs": [],
   "source": [
    "# Construct interpolation grid\n",
    "xi = 0.9856\n",
    "\n",
    "print('The shape of phi is {}'.format(phi.shape))\n",
    "yi = phi.dot(c) #<-- Notice recycled coefficients c_k's\n",
    "plt.plot(x,f,'bo',xi,yi,'r.')\n",
    "plt.xlabel('x')\n",
    "plt.ylabel('y')\n",
    "plt.title('Interpolation');\n",
    "print('The interpolated point is ({},{:1.2f})'.format(xi,yi[0]))"
   ]
  },
  {
   "cell_type": "code",
   "execution_count": null,
   "metadata": {
    "collapsed": true
   },
   "outputs": [],
   "source": []
  }
 ],
 "metadata": {
  "kernelspec": {
   "display_name": "Python 3",
   "language": "python",
   "name": "python3"
  },
  "language_info": {
   "codemirror_mode": {
    "name": "ipython",
    "version": 3
   },
   "file_extension": ".py",
   "mimetype": "text/x-python",
   "name": "python",
   "nbconvert_exporter": "python",
   "pygments_lexer": "ipython3",
   "version": "3.6.1"
  }
 },
 "nbformat": 4,
 "nbformat_minor": 1
}
