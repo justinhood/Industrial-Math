{
 "cells": [
  {
   "cell_type": "code",
   "execution_count": 30,
   "metadata": {},
   "outputs": [],
   "source": [
    "import numpy as np\n",
    "import matplotlib.pyplot as plt\n",
    "%matplotlib inline"
   ]
  },
  {
   "cell_type": "markdown",
   "metadata": {},
   "source": [
    "# Problem 3\n",
    "$e^{-0.2x^2}=\\frac{\\sin(x)}{x}$ with tolerance $10^{-8}$"
   ]
  },
  {
   "cell_type": "code",
   "execution_count": 31,
   "metadata": {},
   "outputs": [],
   "source": [
    "f3 = lambda x: np.exp(-.2*x**2)-np.sin(x)/x\n",
    "g3 = lambda x: (f3(x+f3(x))-f3(x))/f3(x)"
   ]
  },
  {
   "cell_type": "code",
   "execution_count": 32,
   "metadata": {},
   "outputs": [],
   "source": [
    "def steffensen(r, f, g, tol, maxiter=10):\n",
    "    k, err = 0, 1+tol\n",
    "    evec = []\n",
    "    while np.fabs(err) > tol and k < maxiter:\n",
    "        err = float(f(r))/float(g(r))\n",
    "        evec.append(np.fabs(err))\n",
    "        r -= err\n",
    "        k += 1\n",
    "    return evec+np.finfo(float).eps, k-1, r"
   ]
  },
  {
   "cell_type": "code",
   "execution_count": 33,
   "metadata": {},
   "outputs": [
    {
     "name": "stdout",
     "output_type": "stream",
     "text": [
      "The root is 2.066393863299685 after 4 iterations with error = 3.0375e-08.\n"
     ]
    },
    {
     "data": {
      "image/png": "[encoded data removed]",
      "text/plain": [
       "<Figure size 432x288 with 1 Axes>"
      ]
     },
     "metadata": {
      "needs_background": "light"
     },
     "output_type": "display_data"
    }
   ],
   "source": [
    "evec, its, root = steffensen(1.75, f3, g3, 10e-8)\n",
    "print('The root is {} after {} iterations with error = {:2.4e}.'.format(root,its,evec[-1]))\n",
    "plt.semilogy(np.arange(1,len(evec)),evec[1:],'ro-')\n",
    "plt.xticks(np.arange(1,len(evec)))\n",
    "plt.grid(True);"
   ]
  },
  {
   "cell_type": "markdown",
   "metadata": {},
   "source": [
    "# Problem 4\n",
    "$$199000=\\frac{1200}{r/12}\\big(1-\\big(1+\\frac{r}{12}\\big)^{-360}\\big)$$"
   ]
  },
  {
   "cell_type": "code",
   "execution_count": 34,
   "metadata": {},
   "outputs": [],
   "source": [
    "A=199000\n",
    "P=1200\n",
    "fmortgage = lambda r: A-(P/(r/12))*(1-(1+(r/12))**(-360))\n",
    "gmortgage = lambda r: (fmortgage(r+fmortgage(r))-fmortgage(r))/fmortgage(r)\n",
    "dfmortgage = lambda r: (12*P/r**2)*(1-(1+r/12)**(-360))-360*P*r**(-1)*(1+r/12)**(-361)"
   ]
  },
  {
   "cell_type": "markdown",
   "metadata": {},
   "source": [
    "We have written our fmortgage function as the difference of the left and right hand side of the above equation. Using both steffensen's method and newtons methods, with appropriate starting point, we arrive at the solution below."
   ]
  },
  {
   "cell_type": "code",
   "execution_count": 35,
   "metadata": {},
   "outputs": [
    {
     "data": {
      "text/plain": [
       "-7.8580342233181e-10"
      ]
     },
     "execution_count": 35,
     "metadata": {},
     "output_type": "execute_result"
    }
   ],
   "source": [
    "fmortgage(.060538198089708)"
   ]
  },
  {
   "cell_type": "code",
   "execution_count": 40,
   "metadata": {},
   "outputs": [
    {
     "name": "stdout",
     "output_type": "stream",
     "text": [
      "0.06053800007502499\n"
     ]
    }
   ],
   "source": [
    "evec, iter, root = steffensen(.060538, fmortgage, gmortgage, 10e-8)\n",
    "print(root)"
   ]
  },
  {
   "cell_type": "code",
   "execution_count": 37,
   "metadata": {},
   "outputs": [],
   "source": [
    "def newton(r,func,dfunc,tol,maxiter=10):\n",
    "    k, err =0,1+tol\n",
    "    evec = []\n",
    "    while np.fabs(err) > tol and k < maxiter:\n",
    "        err = func(r)/dfunc(r)\n",
    "        evec.append(np.fabs(err))\n",
    "        r -= err\n",
    "        k += 1\n",
    "    return evec+np.finfo(float).eps, k-1, r"
   ]
  },
  {
   "cell_type": "code",
   "execution_count": 38,
   "metadata": {},
   "outputs": [
    {
     "name": "stdout",
     "output_type": "stream",
     "text": [
      "0.06053800007502499\n"
     ]
    }
   ],
   "source": [
    "evec, iter, root = newton(.060538, fmortgage, gmortgage, 10e-8)\n",
    "print(root)"
   ]
  },
  {
   "cell_type": "code",
   "execution_count": null,
   "metadata": {},
   "outputs": [],
   "source": []
  }
 ],
 "metadata": {
  "kernelspec": {
   "display_name": "Python 3",
   "language": "python",
   "name": "python3"
  },
  "language_info": {
   "codemirror_mode": {
    "name": "ipython",
    "version": 3
   },
   "file_extension": ".py",
   "mimetype": "text/x-python",
   "name": "python",
   "nbconvert_exporter": "python",
   "pygments_lexer": "ipython3",
   "version": "3.7.0"
  }
 },
 "nbformat": 4,
 "nbformat_minor": 2
}
