{
 "cells": [
  {
   "cell_type": "code",
   "execution_count": 1,
   "metadata": {},
   "outputs": [],
   "source": [
    "import numpy as np\n",
    "import matplotlib.pyplot as plt\n",
    "import scipy.special as sp\n",
    "%matplotlib inline"
   ]
  },
  {
   "cell_type": "markdown",
   "metadata": {},
   "source": [
    "### Problem4\n",
    "Estimate erf(1)"
   ]
  },
  {
   "cell_type": "code",
   "execution_count": 17,
   "metadata": {},
   "outputs": [],
   "source": [
    "x=np.linspace(0,1,7) #Gets our nodes on the 1/6 points of the interval\n",
    "dx=x[1] #Width is 1/6 first interval\n",
    "def erf(x):\n",
    "    return (2/np.sqrt(np.pi))*np.exp(-x**2) #Give us the values of the e^-x^2 at the x nodes."
   ]
  },
  {
   "cell_type": "markdown",
   "metadata": {},
   "source": [
    "##### RHR with 6 nodes"
   ]
  },
  {
   "cell_type": "code",
   "execution_count": 18,
   "metadata": {},
   "outputs": [
    {
     "name": "stdout",
     "output_type": "stream",
     "text": [
      "0.7813379161851903\n"
     ]
    }
   ],
   "source": [
    "rs=0 #Our right sum\n",
    "for i in range(1,7):\n",
    "    rs+=erf(x[i])*dx #Evaluate on the right points, 1/6 2/6 3/6 4/6 5/6 1, multiply by with of rectangle\n",
    "print(rs) #What is the value?"
   ]
  },
  {
   "cell_type": "markdown",
   "metadata": {},
   "source": [
    "##### LHR with 6 nodes"
   ]
  },
  {
   "cell_type": "code",
   "execution_count": 19,
   "metadata": {},
   "outputs": [
    {
     "name": "stdout",
     "output_type": "stream",
     "text": [
      "0.9002165277976767\n"
     ]
    }
   ],
   "source": [
    "ls=0 #Left Sum\n",
    "for i in range(1,7):\n",
    "    ls+=erf(x[i-1])*dx #Evaluate on the left points, 0 1/6 2/6 3/6 4/6 5/6, multiply by width of rectangle\n",
    "print(ls) #What is the value?"
   ]
  },
  {
   "cell_type": "markdown",
   "metadata": {},
   "source": [
    "##### Midpoint with 6 nodes"
   ]
  },
  {
   "cell_type": "code",
   "execution_count": 20,
   "metadata": {},
   "outputs": [
    {
     "name": "stdout",
     "output_type": "stream",
     "text": [
      "0.8436632445676673\n"
     ]
    }
   ],
   "source": [
    "ms=0 #Midpoint sum\n",
    "for i in range(1,7):\n",
    "    ms+=erf(x[i]-(dx/2))*dx #Evaluate on the centers of the intervals, 1/12 3/12 5/12 7/12 9/12 11/12, multiply by the width\n",
    "print(ms) #What is the value"
   ]
  },
  {
   "cell_type": "markdown",
   "metadata": {},
   "source": [
    "##### Trapezoidal with 6 nodes"
   ]
  },
  {
   "cell_type": "code",
   "execution_count": 21,
   "metadata": {},
   "outputs": [
    {
     "name": "stdout",
     "output_type": "stream",
     "text": [
      "0.8407772219914336\n"
     ]
    }
   ],
   "source": [
    "rhs=0 #right hand rule\n",
    "lhs=0 #left hand rule\n",
    "ts=0 #Trapezoidal sum\n",
    "for i in range(1,7):\n",
    "    rhs+=erf(x[i])*dx #As before\n",
    "for i in range(1,7):\n",
    "    lhs+=erf(x[i-1])*dx #As before\n",
    "ts = (rhs+lhs)/2 #Use the fact that trap rule is the average of LHR and RHR\n",
    "print(ts) #What is the value?"
   ]
  },
  {
   "cell_type": "markdown",
   "metadata": {},
   "source": [
    "##### Taylor sum with 8th degree\n",
    "This goes to the fourth term of the sequence, as we have $x^{2k}$"
   ]
  },
  {
   "cell_type": "code",
   "execution_count": 22,
   "metadata": {},
   "outputs": [],
   "source": [
    "def sumerf(x,nterms):\n",
    "    s = 0 #summing variable\n",
    "    for k in range(0,nterms): #Generate nterms of the series\n",
    "        s += (-1)**(k)*(x**(2*k+1))/(np.math.factorial(k)*(2*k+1)) #Use the computed summation to get the value at each term\n",
    "    return s #What is the value?"
   ]
  },
  {
   "cell_type": "code",
   "execution_count": 23,
   "metadata": {},
   "outputs": [
    {
     "name": "stdout",
     "output_type": "stream",
     "text": [
      "0.8382245241280951\n"
     ]
    }
   ],
   "source": [
    "er=sumerf(x,4) #approx of the integral with 4 terms over x interval\n",
    "erfint=er[-1]*2/np.sqrt(np.pi) #Multiply by the coefficient\n",
    "print(erfint) #What is the value?"
   ]
  },
  {
   "cell_type": "code",
   "execution_count": 24,
   "metadata": {},
   "outputs": [
    {
     "data": {
      "text/plain": [
       "0.8427007929497148"
      ]
     },
     "execution_count": 24,
     "metadata": {},
     "output_type": "execute_result"
    }
   ],
   "source": [
    "sp.erf(1) #Use the scipy special package to get a \"true\" value"
   ]
  },
  {
   "cell_type": "code",
   "execution_count": 25,
   "metadata": {},
   "outputs": [
    {
     "name": "stdout",
     "output_type": "stream",
     "text": [
      "0.061362876764524454\n",
      "0.05751573484796191\n",
      "0.0009624516179524978\n",
      "0.0019235709582812177\n",
      "0.004476268821619667\n"
     ]
    }
   ],
   "source": [
    "rabs=np.abs(sp.erf(1)-rs) #Right hand error\n",
    "labs=np.abs(sp.erf(1)-ls) #Left hand error\n",
    "mabs=np.abs(sp.erf(1)-ms) #Midpoint error\n",
    "tabs=np.abs(sp.erf(1)-ts) #Trap error\n",
    "tayabs=np.abs(sp.erf(1)-erfint) #Taylor error\n",
    "print(rabs) #Show me the values\n",
    "print(labs)\n",
    "print(mabs)\n",
    "print(tabs)\n",
    "print(tayabs)"
   ]
  },
  {
   "cell_type": "markdown",
   "metadata": {},
   "source": [
    "### Problem 8\n",
    "Estimating $$\\int_0^x\\sin(\\frac{\\pi}{2}t^2)dt$$"
   ]
  },
  {
   "cell_type": "code",
   "execution_count": 26,
   "metadata": {},
   "outputs": [],
   "source": [
    "sfres, c = sp.fresnel(1) #This is the true value of the integral using scipy.special\n"
   ]
  },
  {
   "cell_type": "code",
   "execution_count": 27,
   "metadata": {},
   "outputs": [],
   "source": [
    "def myfresnel(x,nterms):\n",
    "    s=0\n",
    "    for k in range(0,nterms): #Generate nterms of the sequence\n",
    "        s += (-1)**k*(np.pi/2)**(2*k+1)*x**(4*k+3)/((4*k+3)*np.math.factorial(2*k+1)) #Eval each term at x\n",
    "    return s"
   ]
  },
  {
   "cell_type": "code",
   "execution_count": 28,
   "metadata": {},
   "outputs": [
    {
     "name": "stdout",
     "output_type": "stream",
     "text": [
      "This level of accuracy needs\n",
      "6\n",
      "Terms\n"
     ]
    }
   ],
   "source": [
    "tol=10**(-8) #Limit of the accuracy\n",
    "err=1 #Arbitrary value > tol\n",
    "nterm=0 #Start with zero terms computed\n",
    "while(err>tol): #Test that we're not accurate enough\n",
    "    nterm+=1 #Generate the next term\n",
    "    y=myfresnel(1,nterm) #Get value\n",
    "    err=abs(y-sfres) #Test the new error value with an additional term attached\n",
    "print(\"This level of accuracy needs\")\n",
    "print(nterm)\n",
    "print(\"Terms\")"
   ]
  },
  {
   "cell_type": "markdown",
   "metadata": {},
   "source": [
    "### Problem 9"
   ]
  },
  {
   "cell_type": "code",
   "execution_count": 29,
   "metadata": {},
   "outputs": [],
   "source": [
    "def newerf(x,nterms): #This is the new sum function\n",
    "    coef=(2/np.sqrt(np.pi))*np.exp(-x**2) #This is the constant value out front of the summand\n",
    "    newerfsum=0 #Start sum at 0\n",
    "    denom=1 #Denom takes the form of a \"odd\" factorial based on k, changes each k value, and 1 is mult. identity\n",
    "    for k in range(0,nterms): #Generate nterms of a sequence\n",
    "        i=0 #Iter variable for computing denominator of sum\n",
    "        while (i<=k): #Stop at kth term\n",
    "            denom=denom*(2*i+1) #Mult by next odd term\n",
    "            i+=1 #Iterate\n",
    "        newerfsum+=coef*(2**k*x**(2*k+1))/denom #Each term is a coefficient times numerator/denominator\n",
    "        denom=1 #Reset denominator for next term\n",
    "    return newerfsum #Give me the value"
   ]
  },
  {
   "cell_type": "code",
   "execution_count": 30,
   "metadata": {},
   "outputs": [],
   "source": [
    "def olderf(x,nterms): #Code up the old summand from before\n",
    "    coef=(2/np.sqrt(np.pi)) #Set the coef here for simplicity -> What we were missing last week\n",
    "    newerfsum=0 #Start sum at 0\n",
    "    for k in range(0,nterms): #Generate nterms of the sequence\n",
    "        denom=np.math.factorial(k)*(2*k+1) #Get the denominator\n",
    "        newerfsum+=coef*((-1)**k*x**(2*k+1))/denom # Compute coef*num*denom\n",
    "    return newerfsum #Give me the value"
   ]
  },
  {
   "cell_type": "code",
   "execution_count": 31,
   "metadata": {},
   "outputs": [
    {
     "name": "stdout",
     "output_type": "stream",
     "text": [
      "New Method needs\n",
      "6\n",
      "Old Method needs\n",
      "5\n"
     ]
    }
   ],
   "source": [
    "tol=10**(-3) #Set the tolerance to assigned value\n",
    "err=1 #Arbitrary error > tol\n",
    "newTermCount=0 # #of terms in the new sum to reach tolerance\n",
    "while (err > tol): #Test accuracy\n",
    "    newTermCount+=1 #Add a term\n",
    "    y=newerf(1,newTermCount) #Compute the value with nterms\n",
    "    err=abs(sp.erf(1)-y) #Test error\n",
    "print(\"New Method needs\")\n",
    "print(newTermCount) #Tell me how many\n",
    "err=1 #Reset error\n",
    "oldTermCount=0 #of terms in the old sum to reach tolerance\n",
    "while (err > tol): # Test accuracy\n",
    "    oldTermCount+=1 #add a term\n",
    "    z=olderf(1,oldTermCount)#get the value\n",
    "    err=abs(sp.erf(1)-z)#Test accuracy\n",
    "print(\"Old Method needs\")\n",
    "print(oldTermCount)#Tell me how many"
   ]
  },
  {
   "cell_type": "code",
   "execution_count": null,
   "metadata": {},
   "outputs": [],
   "source": []
  }
 ],
 "metadata": {
  "kernelspec": {
   "display_name": "Python 2",
   "language": "python",
   "name": "python2"
  },
  "language_info": {
   "codemirror_mode": {
    "name": "ipython",
    "version": 2
   },
   "file_extension": ".py",
   "mimetype": "text/x-python",
   "name": "python",
   "nbconvert_exporter": "python",
   "pygments_lexer": "ipython2",
   "version": "2.7.14"
  }
 },
 "nbformat": 4,
 "nbformat_minor": 2
}
